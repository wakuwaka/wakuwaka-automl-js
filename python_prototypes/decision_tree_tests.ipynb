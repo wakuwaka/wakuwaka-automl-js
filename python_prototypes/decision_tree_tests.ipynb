{
 "cells": [
  {
   "cell_type": "markdown",
   "metadata": {},
   "source": [
    "# Testing visualization of decision tree\n",
    "\n",
    "This notebook is used to verify consistency of implemented javascript decision tree classes with those of sklearn."
   ]
  },
  {
   "cell_type": "code",
   "execution_count": 1,
   "metadata": {},
   "outputs": [],
   "source": [
    "from sklearn.externals.six import Str