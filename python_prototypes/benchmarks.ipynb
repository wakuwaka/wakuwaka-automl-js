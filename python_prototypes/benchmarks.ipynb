{
 "cells": [
  {
   "cell_type": "markdown",
   "metadata": {},
   "source": [
    "# Comparison to sklearn estimators\n",
    "\n",
    "Scikit-Learn is a popular machine learning library, which has been tested many times in practical applications. If the current library can match scikit - learn in it's performance, this is a good indicator of quality of the library. For such comparison, the benchmarks in this notebook are given."
   ]
  },
  {
   "cell_type": "code",
   "execution_count": 1,
   "metadata": {},
   "outputs": [],
   "source": [
    "from subprocess import call, DEVNULL\n",
    "import numpy as np\n",
    "import pmlb\n",
    "import json\n",
    "from time import time\n",
    "import os\n",
    "import random"
   ]
  },
  {
   "cell_type": "markdown",
   "metadata": {},
   "source": [
    "## Execute estimator in javascript\n",
    "\n",
    "As the names of the parameters and estimators mirror those of sklearn, it is relatively easy to execute the estimators in javascript. Implementation is given below."
   ]
  },
  {
   "cell_type": "code",
   "execution_count": 2,
   "metadata": {},
   "outputs": [],
   "source": [
    "def compare_estimator(X, y, X_test, y_test, estimator, params):\n",
    "    node_code = \"\"\"\n",
    "const ai = require('../src/automljs')\n",
    "const fs = require('fs')\n",
    "var data = JSON.parse(fs.readFileSync('data.json', 'utf8'));\n",
    "\n",
    "async function main(){\n",
    "    var X = data['X'];\n",
    "    var y = data['y'];\n",
    "    var X_test = data['X_test'];\n",
    "    var y_test = data['y_test'];\n",
    "\n",
    "    // read estimator from the serialization module\n",
    "    var model = new ai.io.base_estimators['%s'](%s)\n",
    "\n",
    "    var fit_start = process.hrtime();\n",
    "    await model.fit(X, y)\n",
    "    var elapsed = process.hrtime(fit_start)[1] / 1000000; // divide by a million to get nano to milli\n",
    "\n",
    "    var score = await model.score(X_test, y_test)\n",
    "    var res = {\n",
    "        'score': score, 'runtime': elapsed\n",
    "    }\n",
    "    await fs.writeFile('result.json', JSON.stringify(res), 'utf8', function(){ })\n",
    "}\n",
    "\n",
    "main()\n",
    "    \"\"\" % (\n",
    "        estimator.__class__.__name__, \n",
    "        json.dumps(para